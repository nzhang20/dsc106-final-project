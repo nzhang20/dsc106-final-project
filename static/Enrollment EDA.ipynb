{
 "cells": [
  {
   "cell_type": "code",
   "execution_count": 1,
   "id": "55d30341",
   "metadata": {},
   "outputs": [],
   "source": [
    "import pandas as pd\n",
    "import numpy as np"
   ]
  },
  {
   "cell_type": "raw",
   "id": "1c7f4dce",
   "metadata": {},
   "source": [
    "df = pd.read_csv('Enrollment Data/schools_ccd_enrollment_2002.csv')\n",
    "df.groupby('race')['enrollment'].sum().reset_index()"
   ]
  },
  {
   "cell_type": "code",
   "execution_count": 8,
   "id": "dc21a52a",
   "metadata": {},
   "outputs": [
    {
     "name": "stdout",
     "output_type": "stream",
     "text": [
      "1998 done\n",
      "1999 done\n",
      "2000 done\n",
      "2001 done\n",
      "2002 done\n",
      "2003 done\n",
      "2004 done\n",
      "2005 done\n",
      "2006 done\n",
      "2007 done\n",
      "2008 done\n",
      "2009 done\n",
      "2010 done\n",
      "2011 done\n",
      "2012 done\n",
      "2013 done\n",
      "2014 done\n",
      "2015 done\n",
      "2016 done\n",
      "2017 done\n",
      "2018 done\n",
      "2019 done\n",
      "2020 done\n",
      "2021 done\n"
     ]
    }
   ],
   "source": [
    "cols = ['ncessch_num', 'grade', 'race', 'sex', 'enrollment']\n",
    "\n",
    "def clean_df(year):\n",
    "    df = pd.read_csv(f'Enrollment Data/schools_ccd_enrollment_{year}.csv', usecols=cols)\n",
    "    \n",
    "    keep_grades = [i for i in range(-1, 15)]\n",
    "    df = df[df['grade'].isin(keep_grades)]\n",
    "    \n",
    "    keep_races = [i for i in range(1, 8)]\n",
    "    df = df[df['race'].isin(keep_races)]\n",
    "    \n",
    "    races = {1:'White', 2:'Black', 3:'Hispanic', 4:'Asian', 5:'American Indian or Alaska Native', \n",
    "         6:'Native Hawaiian or other Pacific Islander', 7:'Two or more races'}\n",
    "    df = df.replace({\"race\": races})\n",
    "    \n",
    "    df = df[df['enrollment'] > 0]\n",
    "    enrollment_df = df.groupby('race')['enrollment'].sum().reset_index()\n",
    "    enrollment_df['year'] = f'{year}-01-01'\n",
    "    \n",
    "    enrollment_df.to_csv(f'Cleaned Data/{year}_enrollment.csv', index=False)\n",
    "    \n",
    "    print(f'{year} done')\n",
    "    \n",
    "\n",
    "start_year = 1998\n",
    "end_year = 2021 + 1\n",
    "for i in range(start_year, end_year):\n",
    "    clean_df(i)"
   ]
  },
  {
   "cell_type": "markdown",
   "id": "76bbc1c9",
   "metadata": {},
   "source": [
    "---\n",
    "### Original EDA Below"
   ]
  },
  {
   "cell_type": "code",
   "execution_count": 2,
   "id": "a4b08b5b",
   "metadata": {},
   "outputs": [
    {
     "data": {
      "text/html": [
       "<div>\n",
       "<style scoped>\n",
       "    .dataframe tbody tr th:only-of-type {\n",
       "        vertical-align: middle;\n",
       "    }\n",
       "\n",
       "    .dataframe tbody tr th {\n",
       "        vertical-align: top;\n",
       "    }\n",
       "\n",
       "    .dataframe thead th {\n",
       "        text-align: right;\n",
       "    }\n",
       "</style>\n",
       "<table border=\"1\" class=\"dataframe\">\n",
       "  <thead>\n",
       "    <tr style=\"text-align: right;\">\n",
       "      <th></th>\n",
       "      <th>ncessch_num</th>\n",
       "      <th>grade</th>\n",
       "      <th>race</th>\n",
       "      <th>sex</th>\n",
       "      <th>enrollment</th>\n",
       "    </tr>\n",
       "  </thead>\n",
       "  <tbody>\n",
       "    <tr>\n",
       "      <th>0</th>\n",
       "      <td>10000500870</td>\n",
       "      <td>7</td>\n",
       "      <td>5</td>\n",
       "      <td>2</td>\n",
       "      <td>1.0</td>\n",
       "    </tr>\n",
       "    <tr>\n",
       "      <th>1</th>\n",
       "      <td>10000500870</td>\n",
       "      <td>7</td>\n",
       "      <td>5</td>\n",
       "      <td>1</td>\n",
       "      <td>3.0</td>\n",
       "    </tr>\n",
       "    <tr>\n",
       "      <th>2</th>\n",
       "      <td>10000500870</td>\n",
       "      <td>7</td>\n",
       "      <td>4</td>\n",
       "      <td>2</td>\n",
       "      <td>2.0</td>\n",
       "    </tr>\n",
       "    <tr>\n",
       "      <th>3</th>\n",
       "      <td>10000500870</td>\n",
       "      <td>7</td>\n",
       "      <td>4</td>\n",
       "      <td>1</td>\n",
       "      <td>2.0</td>\n",
       "    </tr>\n",
       "    <tr>\n",
       "      <th>4</th>\n",
       "      <td>10000500870</td>\n",
       "      <td>7</td>\n",
       "      <td>2</td>\n",
       "      <td>2</td>\n",
       "      <td>7.0</td>\n",
       "    </tr>\n",
       "  </tbody>\n",
       "</table>\n",
       "</div>"
      ],
      "text/plain": [
       "   ncessch_num  grade  race  sex  enrollment\n",
       "0  10000500870      7     5    2         1.0\n",
       "1  10000500870      7     5    1         3.0\n",
       "2  10000500870      7     4    2         2.0\n",
       "3  10000500870      7     4    1         2.0\n",
       "4  10000500870      7     2    2         7.0"
      ]
     },
     "execution_count": 2,
     "metadata": {},
     "output_type": "execute_result"
    }
   ],
   "source": [
    "# columns: year, ncessch, ncessch_num, leaid, fips, grade, race, sex, enrollment\n",
    "cols = ['ncessch_num', 'grade', 'race', 'sex', 'enrollment']\n",
    "\n",
    "# 2010-2021\n",
    "df = pd.read_csv('Enrollment Data/schools_ccd_enrollment_2021.csv', usecols=cols)\n",
    "\n",
    "df.head()"
   ]
  },
  {
   "cell_type": "code",
   "execution_count": 3,
   "id": "8b9cfb7a",
   "metadata": {},
   "outputs": [
    {
     "data": {
      "text/plain": [
       "[-1, 0, 1, 2, 3, 4, 5, 6, 7, 8, 9, 10, 11, 12, 13, 14, 15, 99, 999]"
      ]
     },
     "execution_count": 3,
     "metadata": {},
     "output_type": "execute_result"
    }
   ],
   "source": [
    "sorted(df['grade'].unique())"
   ]
  },
  {
   "cell_type": "markdown",
   "id": "9b4ac7b0",
   "metadata": {},
   "source": [
    "-1—Pre-K\n",
    "0—Kindergarten\n",
    "1—1\n",
    "2—2\n",
    "3—3\n",
    "4—4\n",
    "5—5\n",
    "6—6\n",
    "7—7\n",
    "8—8\n",
    "9—9\n",
    "10—10\n",
    "11—11\n",
    "12—12\n",
    "13—13\n",
    "14—Adult education\n",
    "15—Ungraded\n",
    "99—Total\n",
    "999—Not specified"
   ]
  },
  {
   "cell_type": "code",
   "execution_count": 4,
   "id": "4655a040",
   "metadata": {},
   "outputs": [
    {
     "data": {
      "text/plain": [
       "[-1, 0, 1, 2, 3, 4, 5, 6, 7, 8, 9, 10, 11, 12, 13, 14]"
      ]
     },
     "execution_count": 4,
     "metadata": {},
     "output_type": "execute_result"
    }
   ],
   "source": [
    "# only keep -1 to 14\n",
    "keep_grades = [i for i in range(-1, 15)]\n",
    "\n",
    "df = df[df['grade'].isin(keep_grades)]\n",
    "\n",
    "sorted(df['grade'].unique())"
   ]
  },
  {
   "cell_type": "markdown",
   "id": "8afa8747",
   "metadata": {},
   "source": [
    "1—White\n",
    "2—Black\n",
    "3—Hispanic\n",
    "4—Asian\n",
    "5—American Indian or Alaska Native\n",
    "6—Native Hawaiian or other Pacific Islander\n",
    "7—Two or more races\n",
    "8—Nonresident alien\n",
    "9—Unknown\n",
    "20—Other\n",
    "99—Total\n",
    "-1—Missing/not reported\n",
    "-2—Not applicable\n",
    "-3—Suppressed data"
   ]
  },
  {
   "cell_type": "code",
   "execution_count": 5,
   "id": "94bc2985",
   "metadata": {},
   "outputs": [
    {
     "data": {
      "text/plain": [
       "[1, 2, 3, 4, 5, 6, 7, 9, 99]"
      ]
     },
     "execution_count": 5,
     "metadata": {},
     "output_type": "execute_result"
    }
   ],
   "source": [
    "sorted(df['race'].unique())"
   ]
  },
  {
   "cell_type": "code",
   "execution_count": 6,
   "id": "453bd937",
   "metadata": {},
   "outputs": [
    {
     "data": {
      "text/plain": [
       "[1, 2, 3, 4, 5, 6, 7]"
      ]
     },
     "execution_count": 6,
     "metadata": {},
     "output_type": "execute_result"
    }
   ],
   "source": [
    "# only keep 1 to 7\n",
    "keep_races = [i for i in range(1, 8)]\n",
    "\n",
    "df = df[df['race'].isin(keep_races)]\n",
    "\n",
    "sorted(df['race'].unique())"
   ]
  },
  {
   "cell_type": "code",
   "execution_count": 10,
   "id": "2b2d11fb",
   "metadata": {},
   "outputs": [
    {
     "data": {
      "text/html": [
       "<div>\n",
       "<style scoped>\n",
       "    .dataframe tbody tr th:only-of-type {\n",
       "        vertical-align: middle;\n",
       "    }\n",
       "\n",
       "    .dataframe tbody tr th {\n",
       "        vertical-align: top;\n",
       "    }\n",
       "\n",
       "    .dataframe thead th {\n",
       "        text-align: right;\n",
       "    }\n",
       "</style>\n",
       "<table border=\"1\" class=\"dataframe\">\n",
       "  <thead>\n",
       "    <tr style=\"text-align: right;\">\n",
       "      <th></th>\n",
       "      <th>ncessch_num</th>\n",
       "      <th>grade</th>\n",
       "      <th>race</th>\n",
       "      <th>sex</th>\n",
       "      <th>enrollment</th>\n",
       "    </tr>\n",
       "  </thead>\n",
       "  <tbody>\n",
       "    <tr>\n",
       "      <th>0</th>\n",
       "      <td>10000500870</td>\n",
       "      <td>7</td>\n",
       "      <td>American Indian or Alaska Native</td>\n",
       "      <td>2</td>\n",
       "      <td>1.0</td>\n",
       "    </tr>\n",
       "    <tr>\n",
       "      <th>1</th>\n",
       "      <td>10000500870</td>\n",
       "      <td>7</td>\n",
       "      <td>American Indian or Alaska Native</td>\n",
       "      <td>1</td>\n",
       "      <td>3.0</td>\n",
       "    </tr>\n",
       "    <tr>\n",
       "      <th>2</th>\n",
       "      <td>10000500870</td>\n",
       "      <td>7</td>\n",
       "      <td>Asian</td>\n",
       "      <td>2</td>\n",
       "      <td>2.0</td>\n",
       "    </tr>\n",
       "    <tr>\n",
       "      <th>3</th>\n",
       "      <td>10000500870</td>\n",
       "      <td>7</td>\n",
       "      <td>Asian</td>\n",
       "      <td>1</td>\n",
       "      <td>2.0</td>\n",
       "    </tr>\n",
       "    <tr>\n",
       "      <th>4</th>\n",
       "      <td>10000500870</td>\n",
       "      <td>7</td>\n",
       "      <td>Black</td>\n",
       "      <td>2</td>\n",
       "      <td>7.0</td>\n",
       "    </tr>\n",
       "    <tr>\n",
       "      <th>...</th>\n",
       "      <td>...</td>\n",
       "      <td>...</td>\n",
       "      <td>...</td>\n",
       "      <td>...</td>\n",
       "      <td>...</td>\n",
       "    </tr>\n",
       "    <tr>\n",
       "      <th>18486019</th>\n",
       "      <td>780003000034</td>\n",
       "      <td>8</td>\n",
       "      <td>Hispanic</td>\n",
       "      <td>99</td>\n",
       "      <td>15.0</td>\n",
       "    </tr>\n",
       "    <tr>\n",
       "      <th>18486020</th>\n",
       "      <td>780003000034</td>\n",
       "      <td>8</td>\n",
       "      <td>Asian</td>\n",
       "      <td>99</td>\n",
       "      <td>0.0</td>\n",
       "    </tr>\n",
       "    <tr>\n",
       "      <th>18486021</th>\n",
       "      <td>780003000034</td>\n",
       "      <td>8</td>\n",
       "      <td>American Indian or Alaska Native</td>\n",
       "      <td>99</td>\n",
       "      <td>0.0</td>\n",
       "    </tr>\n",
       "    <tr>\n",
       "      <th>18486022</th>\n",
       "      <td>780003000034</td>\n",
       "      <td>8</td>\n",
       "      <td>Native Hawaiian or other Pacific Islander</td>\n",
       "      <td>99</td>\n",
       "      <td>0.0</td>\n",
       "    </tr>\n",
       "    <tr>\n",
       "      <th>18486023</th>\n",
       "      <td>780003000034</td>\n",
       "      <td>8</td>\n",
       "      <td>Two or more races</td>\n",
       "      <td>99</td>\n",
       "      <td>0.0</td>\n",
       "    </tr>\n",
       "  </tbody>\n",
       "</table>\n",
       "<p>12089889 rows × 5 columns</p>\n",
       "</div>"
      ],
      "text/plain": [
       "           ncessch_num  grade                                       race  sex  \\\n",
       "0          10000500870      7           American Indian or Alaska Native    2   \n",
       "1          10000500870      7           American Indian or Alaska Native    1   \n",
       "2          10000500870      7                                      Asian    2   \n",
       "3          10000500870      7                                      Asian    1   \n",
       "4          10000500870      7                                      Black    2   \n",
       "...                ...    ...                                        ...  ...   \n",
       "18486019  780003000034      8                                   Hispanic   99   \n",
       "18486020  780003000034      8                                      Asian   99   \n",
       "18486021  780003000034      8           American Indian or Alaska Native   99   \n",
       "18486022  780003000034      8  Native Hawaiian or other Pacific Islander   99   \n",
       "18486023  780003000034      8                          Two or more races   99   \n",
       "\n",
       "          enrollment  \n",
       "0                1.0  \n",
       "1                3.0  \n",
       "2                2.0  \n",
       "3                2.0  \n",
       "4                7.0  \n",
       "...              ...  \n",
       "18486019        15.0  \n",
       "18486020         0.0  \n",
       "18486021         0.0  \n",
       "18486022         0.0  \n",
       "18486023         0.0  \n",
       "\n",
       "[12089889 rows x 5 columns]"
      ]
     },
     "execution_count": 10,
     "metadata": {},
     "output_type": "execute_result"
    }
   ],
   "source": [
    "races = {1:'White', 2:'Black', 3:'Hispanic', 4:'Asian', 5:'American Indian or Alaska Native', \n",
    "         6:'Native Hawaiian or other Pacific Islander', 7:'Two or more races'}\n",
    "\n",
    "df = df.replace({\"race\": races})\n",
    "df"
   ]
  },
  {
   "cell_type": "code",
   "execution_count": 11,
   "id": "384ca794",
   "metadata": {},
   "outputs": [
    {
     "data": {
      "text/html": [
       "<div>\n",
       "<style scoped>\n",
       "    .dataframe tbody tr th:only-of-type {\n",
       "        vertical-align: middle;\n",
       "    }\n",
       "\n",
       "    .dataframe tbody tr th {\n",
       "        vertical-align: top;\n",
       "    }\n",
       "\n",
       "    .dataframe thead th {\n",
       "        text-align: right;\n",
       "    }\n",
       "</style>\n",
       "<table border=\"1\" class=\"dataframe\">\n",
       "  <thead>\n",
       "    <tr style=\"text-align: right;\">\n",
       "      <th></th>\n",
       "      <th>race</th>\n",
       "      <th>enrollment</th>\n",
       "      <th>year</th>\n",
       "    </tr>\n",
       "  </thead>\n",
       "  <tbody>\n",
       "    <tr>\n",
       "      <th>0</th>\n",
       "      <td>American Indian or Alaska Native</td>\n",
       "      <td>963584.0</td>\n",
       "      <td>2021-01-01</td>\n",
       "    </tr>\n",
       "    <tr>\n",
       "      <th>1</th>\n",
       "      <td>Asian</td>\n",
       "      <td>5299714.0</td>\n",
       "      <td>2021-01-01</td>\n",
       "    </tr>\n",
       "    <tr>\n",
       "      <th>2</th>\n",
       "      <td>Black</td>\n",
       "      <td>14635934.0</td>\n",
       "      <td>2021-01-01</td>\n",
       "    </tr>\n",
       "    <tr>\n",
       "      <th>3</th>\n",
       "      <td>Hispanic</td>\n",
       "      <td>28330290.0</td>\n",
       "      <td>2021-01-01</td>\n",
       "    </tr>\n",
       "    <tr>\n",
       "      <th>4</th>\n",
       "      <td>Native Hawaiian or other Pacific Islander</td>\n",
       "      <td>412186.0</td>\n",
       "      <td>2021-01-01</td>\n",
       "    </tr>\n",
       "    <tr>\n",
       "      <th>5</th>\n",
       "      <td>Two or more races</td>\n",
       "      <td>4633530.0</td>\n",
       "      <td>2021-01-01</td>\n",
       "    </tr>\n",
       "    <tr>\n",
       "      <th>6</th>\n",
       "      <td>White</td>\n",
       "      <td>44360226.0</td>\n",
       "      <td>2021-01-01</td>\n",
       "    </tr>\n",
       "  </tbody>\n",
       "</table>\n",
       "</div>"
      ],
      "text/plain": [
       "                                        race  enrollment        year\n",
       "0           American Indian or Alaska Native    963584.0  2021-01-01\n",
       "1                                      Asian   5299714.0  2021-01-01\n",
       "2                                      Black  14635934.0  2021-01-01\n",
       "3                                   Hispanic  28330290.0  2021-01-01\n",
       "4  Native Hawaiian or other Pacific Islander    412186.0  2021-01-01\n",
       "5                          Two or more races   4633530.0  2021-01-01\n",
       "6                                      White  44360226.0  2021-01-01"
      ]
     },
     "execution_count": 11,
     "metadata": {},
     "output_type": "execute_result"
    }
   ],
   "source": [
    "# enrollment_df = df.groupby(['grade', 'race'])['enrollment'].sum().reset_index()\n",
    "\n",
    "enrollment_df = df.groupby('race')['enrollment'].sum().reset_index()\n",
    "enrollment_df['year'] = '2021-01-01'\n",
    "enrollment_df"
   ]
  },
  {
   "cell_type": "code",
   "execution_count": 12,
   "id": "d6b0554d",
   "metadata": {},
   "outputs": [],
   "source": [
    "enrollment_df.to_csv('Cleaned Data/2021_enrollment.csv', index=False)"
   ]
  },
  {
   "cell_type": "code",
   "execution_count": null,
   "id": "47f77bac",
   "metadata": {},
   "outputs": [],
   "source": []
  }
 ],
 "metadata": {
  "kernelspec": {
   "display_name": "Python 3 (ipykernel)",
   "language": "python",
   "name": "python3"
  },
  "language_info": {
   "codemirror_mode": {
    "name": "ipython",
    "version": 3
   },
   "file_extension": ".py",
   "mimetype": "text/x-python",
   "name": "python",
   "nbconvert_exporter": "python",
   "pygments_lexer": "ipython3",
   "version": "3.9.12"
  }
 },
 "nbformat": 4,
 "nbformat_minor": 5
}
