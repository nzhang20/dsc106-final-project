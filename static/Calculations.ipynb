{
 "cells": [
  {
   "cell_type": "code",
   "execution_count": 1,
   "id": "c51f2d1b",
   "metadata": {},
   "outputs": [],
   "source": [
    "import pandas as pd\n",
    "import numpy as np"
   ]
  },
  {
   "cell_type": "code",
   "execution_count": 2,
   "id": "0066bc4c",
   "metadata": {},
   "outputs": [],
   "source": [
    "df = pd.read_csv(f'final_enrollment_data.csv')"
   ]
  },
  {
   "cell_type": "code",
   "execution_count": 3,
   "id": "cafc506d",
   "metadata": {},
   "outputs": [
    {
     "name": "stderr",
     "output_type": "stream",
     "text": [
      "/var/folders/s3/jrstqxb973db3gqjptn3m3nr0000gp/T/ipykernel_53664/3456215593.py:3: SettingWithCopyWarning: \n",
      "A value is trying to be set on a copy of a slice from a DataFrame.\n",
      "Try using .loc[row_indexer,col_indexer] = value instead\n",
      "\n",
      "See the caveats in the documentation: https://pandas.pydata.org/pandas-docs/stable/user_guide/indexing.html#returning-a-view-versus-a-copy\n",
      "  df_2000['enrollment'] = df_2000['enrollment'] / total_2000\n"
     ]
    },
    {
     "data": {
      "text/html": [
       "<div>\n",
       "<style scoped>\n",
       "    .dataframe tbody tr th:only-of-type {\n",
       "        vertical-align: middle;\n",
       "    }\n",
       "\n",
       "    .dataframe tbody tr th {\n",
       "        vertical-align: top;\n",
       "    }\n",
       "\n",
       "    .dataframe thead th {\n",
       "        text-align: right;\n",
       "    }\n",
       "</style>\n",
       "<table border=\"1\" class=\"dataframe\">\n",
       "  <thead>\n",
       "    <tr style=\"text-align: right;\">\n",
       "      <th></th>\n",
       "      <th>year</th>\n",
       "      <th>race</th>\n",
       "      <th>enrollment</th>\n",
       "    </tr>\n",
       "  </thead>\n",
       "  <tbody>\n",
       "    <tr>\n",
       "      <th>0</th>\n",
       "      <td>2000-01-01</td>\n",
       "      <td>American Indian or Alaska Native</td>\n",
       "      <td>0.011875</td>\n",
       "    </tr>\n",
       "    <tr>\n",
       "      <th>1</th>\n",
       "      <td>2000-01-01</td>\n",
       "      <td>Asian</td>\n",
       "      <td>0.042772</td>\n",
       "    </tr>\n",
       "    <tr>\n",
       "      <th>2</th>\n",
       "      <td>2000-01-01</td>\n",
       "      <td>Black</td>\n",
       "      <td>0.174881</td>\n",
       "    </tr>\n",
       "    <tr>\n",
       "      <th>3</th>\n",
       "      <td>2000-01-01</td>\n",
       "      <td>Hispanic</td>\n",
       "      <td>0.185864</td>\n",
       "    </tr>\n",
       "    <tr>\n",
       "      <th>4</th>\n",
       "      <td>2000-01-01</td>\n",
       "      <td>White</td>\n",
       "      <td>0.584608</td>\n",
       "    </tr>\n",
       "  </tbody>\n",
       "</table>\n",
       "</div>"
      ],
      "text/plain": [
       "         year                              race  enrollment\n",
       "0  2000-01-01  American Indian or Alaska Native    0.011875\n",
       "1  2000-01-01                             Asian    0.042772\n",
       "2  2000-01-01                             Black    0.174881\n",
       "3  2000-01-01                          Hispanic    0.185864\n",
       "4  2000-01-01                             White    0.584608"
      ]
     },
     "execution_count": 3,
     "metadata": {},
     "output_type": "execute_result"
    }
   ],
   "source": [
    "df_2000 = df[df['year'] == '2000-01-01']\n",
    "total_2000 = sum(df_2000['enrollment'])\n",
    "df_2000['enrollment'] = df_2000['enrollment'] / total_2000\n",
    "df_2000"
   ]
  },
  {
   "cell_type": "code",
   "execution_count": 4,
   "id": "c72e8904",
   "metadata": {},
   "outputs": [
    {
     "data": {
      "text/plain": [
       "0.41539204189847945"
      ]
     },
     "execution_count": 4,
     "metadata": {},
     "output_type": "execute_result"
    }
   ],
   "source": [
    "sum(df_2000[df_2000['race'] != 'White']['enrollment'])"
   ]
  },
  {
   "cell_type": "code",
   "execution_count": 5,
   "id": "1566f2bf",
   "metadata": {},
   "outputs": [
    {
     "name": "stderr",
     "output_type": "stream",
     "text": [
      "/var/folders/s3/jrstqxb973db3gqjptn3m3nr0000gp/T/ipykernel_53664/2998991485.py:3: SettingWithCopyWarning: \n",
      "A value is trying to be set on a copy of a slice from a DataFrame.\n",
      "Try using .loc[row_indexer,col_indexer] = value instead\n",
      "\n",
      "See the caveats in the documentation: https://pandas.pydata.org/pandas-docs/stable/user_guide/indexing.html#returning-a-view-versus-a-copy\n",
      "  df_2017['enrollment'] = df_2017['enrollment'] / total_2017\n"
     ]
    },
    {
     "data": {
      "text/html": [
       "<div>\n",
       "<style scoped>\n",
       "    .dataframe tbody tr th:only-of-type {\n",
       "        vertical-align: middle;\n",
       "    }\n",
       "\n",
       "    .dataframe tbody tr th {\n",
       "        vertical-align: top;\n",
       "    }\n",
       "\n",
       "    .dataframe thead th {\n",
       "        text-align: right;\n",
       "    }\n",
       "</style>\n",
       "<table border=\"1\" class=\"dataframe\">\n",
       "  <thead>\n",
       "    <tr style=\"text-align: right;\">\n",
       "      <th></th>\n",
       "      <th>year</th>\n",
       "      <th>race</th>\n",
       "      <th>enrollment</th>\n",
       "    </tr>\n",
       "  </thead>\n",
       "  <tbody>\n",
       "    <tr>\n",
       "      <th>103</th>\n",
       "      <td>2017-01-01</td>\n",
       "      <td>American Indian or Alaska Native</td>\n",
       "      <td>0.010644</td>\n",
       "    </tr>\n",
       "    <tr>\n",
       "      <th>104</th>\n",
       "      <td>2017-01-01</td>\n",
       "      <td>Asian</td>\n",
       "      <td>0.051716</td>\n",
       "    </tr>\n",
       "    <tr>\n",
       "      <th>105</th>\n",
       "      <td>2017-01-01</td>\n",
       "      <td>Black</td>\n",
       "      <td>0.150802</td>\n",
       "    </tr>\n",
       "    <tr>\n",
       "      <th>106</th>\n",
       "      <td>2017-01-01</td>\n",
       "      <td>Hispanic</td>\n",
       "      <td>0.271738</td>\n",
       "    </tr>\n",
       "    <tr>\n",
       "      <th>107</th>\n",
       "      <td>2017-01-01</td>\n",
       "      <td>Native Hawaiian or other Pacific Islander</td>\n",
       "      <td>0.004289</td>\n",
       "    </tr>\n",
       "    <tr>\n",
       "      <th>108</th>\n",
       "      <td>2017-01-01</td>\n",
       "      <td>Two or more races</td>\n",
       "      <td>0.038283</td>\n",
       "    </tr>\n",
       "    <tr>\n",
       "      <th>109</th>\n",
       "      <td>2017-01-01</td>\n",
       "      <td>White</td>\n",
       "      <td>0.472528</td>\n",
       "    </tr>\n",
       "  </tbody>\n",
       "</table>\n",
       "</div>"
      ],
      "text/plain": [
       "           year                                       race  enrollment\n",
       "103  2017-01-01           American Indian or Alaska Native    0.010644\n",
       "104  2017-01-01                                      Asian    0.051716\n",
       "105  2017-01-01                                      Black    0.150802\n",
       "106  2017-01-01                                   Hispanic    0.271738\n",
       "107  2017-01-01  Native Hawaiian or other Pacific Islander    0.004289\n",
       "108  2017-01-01                          Two or more races    0.038283\n",
       "109  2017-01-01                                      White    0.472528"
      ]
     },
     "execution_count": 5,
     "metadata": {},
     "output_type": "execute_result"
    }
   ],
   "source": [
    "df_2017 = df[df['year'] == '2017-01-01']\n",
    "total_2017 = sum(df_2017['enrollment'])\n",
    "df_2017['enrollment'] = df_2017['enrollment'] / total_2017\n",
    "df_2017"
   ]
  },
  {
   "cell_type": "code",
   "execution_count": 11,
   "id": "618d45ff",
   "metadata": {},
   "outputs": [
    {
     "data": {
      "text/plain": [
       "0.5274720210878071"
      ]
     },
     "execution_count": 11,
     "metadata": {},
     "output_type": "execute_result"
    }
   ],
   "source": [
    "sum(df_2017[df_2017['race'] != 'White']['enrollment'])"
   ]
  },
  {
   "cell_type": "code",
   "execution_count": 6,
   "id": "6ab61931",
   "metadata": {},
   "outputs": [
    {
     "data": {
      "text/plain": [
       "52"
      ]
     },
     "execution_count": 6,
     "metadata": {},
     "output_type": "execute_result"
    }
   ],
   "source": [
    "27+15+5+4+1"
   ]
  },
  {
   "cell_type": "code",
   "execution_count": null,
   "id": "adf372d6",
   "metadata": {},
   "outputs": [],
   "source": []
  }
 ],
 "metadata": {
  "kernelspec": {
   "display_name": "Python 3 (ipykernel)",
   "language": "python",
   "name": "python3"
  },
  "language_info": {
   "codemirror_mode": {
    "name": "ipython",
    "version": 3
   },
   "file_extension": ".py",
   "mimetype": "text/x-python",
   "name": "python",
   "nbconvert_exporter": "python",
   "pygments_lexer": "ipython3",
   "version": "3.9.12"
  }
 },
 "nbformat": 4,
 "nbformat_minor": 5
}
